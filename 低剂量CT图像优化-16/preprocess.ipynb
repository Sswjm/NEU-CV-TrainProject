{
 "cells": [
  {
   "cell_type": "code",
   "execution_count": null,
   "metadata": {},
   "outputs": [],
   "source": [
    "%pip install SimpleITK"
   ]
  },
  {
   "cell_type": "code",
   "execution_count": null,
   "metadata": {},
   "outputs": [],
   "source": [
    "import os\n",
    "from tqdm import tqdm\n",
    "import random\n",
    "import shutil\n",
    "\n",
    "import SimpleITK as sitk\n",
    "import matplotlib.pyplot as plt\n",
    "import cv2\n",
    "import shutil\n",
    "from PIL import Image\n",
    "import torch\n",
    "\n",
    "import os\n",
    "from glob import glob\n",
    "import numpy as np\n",
    "import pandas as pd\n",
    "from torch.utils.data import Dataset, DataLoader"
   ]
  },
  {
   "cell_type": "code",
   "execution_count": null,
   "metadata": {},
   "outputs": [],
   "source": [
    "os.environ[\"KMP_DUPLICATE_LIB_OK\"]=\"TRUE\""
   ]
  },
  {
   "cell_type": "code",
   "execution_count": null,
   "metadata": {},
   "outputs": [],
   "source": [
    "def preprocess(ori_path: str, pro_path: str):\n",
    "    id = 0\n",
    "    for path in os.listdir(ori_path):\n",
    "        if path.find('mhd') >= 0:\n",
    "            id = int(path.split('.')[0])\n",
    "            # save_content = pro_path\n",
    "            # if os.path.exists(save_content):\n",
    "            #     shutil.rmtree(save_content)\n",
    "            # os.makedirs(save_content)\n",
    "          \n",
    "\n",
    "            data_mhd = sitk.ReadImage(os.path.join(ori_path, path))\n",
    "\n",
    "            spacing = data_mhd.GetSpacing()\n",
    "            img_arr = sitk.GetArrayFromImage(data_mhd)\n",
    "\n",
    "            # mha_img = sitk.ReadImage('train/12399485.mhd')\n",
    "            # img_arr = sitk.GetArrayFromImage(mha_img)# ndarray\n",
    "\n",
    "            level = -200\n",
    "            window = 1600\n",
    "\n",
    "            window_minimum = level - window / 2\n",
    "            window_maximum = level + window / 2\n",
    "            img_arr[img_arr < window_minimum]= window_minimum\n",
    "            img_arr[img_arr > window_maximum]= window_maximum\n",
    "\n",
    "            # mha_img = sitk.GetImageFromArray(img_arr)\n",
    "            # sitk.WriteImage(mha_img, 'train/12399485-pro.mhd')\n",
    "            scan = img_arr\n",
    "\n",
    "            for i in tqdm(range(len(scan))):\n",
    "                img = cv2.normalize(scan[i], None, 0, 255, cv2.NORM_MINMAX, cv2.CV_8U)\n",
    "                img = Image.fromarray(img)\n",
    "                save_path = os.path.join(pro_path, f'{id}_{i}.png')\n",
    "                img.save(save_path)"
   ]
  },
  {
   "cell_type": "code",
   "execution_count": null,
   "metadata": {},
   "outputs": [],
   "source": [
    "#调用\n",
    "low_dose_path = 'datasets/ct/final'  # 原数据集路径\n",
    "low_dose_slice_path = 'datasets/ct/final_test'  # 保存路径\n",
    "\n",
    "\n",
    "#read(low_dose_path, low_dose_slice_path)\n",
    "preprocess(low_dose_path, low_dose_slice_path)"
   ]
  },
  {
   "cell_type": "code",
   "execution_count": null,
   "metadata": {},
   "outputs": [],
   "source": [
    "test = os.listdir(low_dose_slice_path)\n",
    "print(len(test))"
   ]
  },
  {
   "cell_type": "code",
   "execution_count": null,
   "metadata": {},
   "outputs": [],
   "source": [
    "!python test.py --dataroot datasets/ct/testA --name 512 --model test --no_dropout --num_test 281 --preprocess none --load_size 512"
   ]
  },
  {
   "cell_type": "code",
   "execution_count": null,
   "metadata": {},
   "outputs": [],
   "source": [
    "from tqdm import tqdm\n",
    "\n",
    "def delete_real(leadpath):\n",
    "    for file in tqdm(os.listdir(leadpath)):\n",
    "        if file.find('real') >= 0:\n",
    "            os.remove(os.path.join(leadpath, file))\n",
    "\n",
    "leadpath = 'results/512/test_latest/images'\n",
    "delete_real(leadpath)"
   ]
  }
 ],
 "metadata": {
  "language_info": {
   "name": "python"
  },
  "orig_nbformat": 4
 },
 "nbformat": 4,
 "nbformat_minor": 2
}
